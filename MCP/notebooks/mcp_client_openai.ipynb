{
 "cells": [
  {
   "cell_type": "code",
   "execution_count": 20,
   "id": "da50a9d1-2040-4966-a9b5-837cc1ebeaaa",
   "metadata": {},
   "outputs": [],
   "source": [
    "#%pip install -U fastmcp"
   ]
  },
  {
   "cell_type": "markdown",
   "id": "04ae43c0-ce0b-4edb-bd01-36bce64d4bcc",
   "metadata": {},
   "source": [
    "<div class=\"alert alert-block alert-info\" style=\"background-color: #05299E; color: white;\">\n",
    "    <h1 style=\"color: white;\">Openai Agent Client</h1>\n",
    "    <h4 style=\"color: white;\">Cross-framework test for Openai Agents <<\\MCP>> OpenAI Agents</h4>\n",
    "    <h6 style=\"color: white;\">@author: Cher Han</h6>\n",
    "</div>"
   ]
  },
  {
   "cell_type": "code",
   "execution_count": 21,
   "id": "b20d7db7-7cd4-45c4-9826-a1811b34ccae",
   "metadata": {},
   "outputs": [],
   "source": [
    "import asyncio\n",
    "import json \n",
    "import nest_asyncio\n",
    "import operator\n",
    "import os\n",
    "import sys\n",
    "from dataclasses import dataclass, field\n",
    "\n",
    "from mcp import ClientSession, StdioServerParameters\n",
    "from mcp.client.stdio import stdio_client\n",
    "from pydantic import BaseModel, Field\n",
    "from typing import Annotated, Any, Dict, List, Tuple, TypedDict, Optional\n",
    "from dotenv import load_dotenv\n",
    "\n"
   ]
  },
  {
   "cell_type": "code",
   "execution_count": 22,
   "id": "90fcedd2",
   "metadata": {},
   "outputs": [],
   "source": [
    "\n",
    "from agents import Agent, Runner, gen_trace_id, trace\n",
    "from agents.mcp import MCPServer, MCPServerSse\n",
    "from agents.model_settings import ModelSettings"
   ]
  },
  {
   "cell_type": "code",
   "execution_count": 23,
   "id": "00c7a42a",
   "metadata": {},
   "outputs": [],
   "source": [
    "from agents import (\n",
    "    Agent,\n",
    "    HandoffOutputItem,\n",
    "    ItemHelpers,\n",
    "    MessageOutputItem,\n",
    "    RunContextWrapper,\n",
    "    Runner,\n",
    "    ToolCallItem,\n",
    "    ToolCallOutputItem,\n",
    "    TResponseInputItem,\n",
    "    function_tool,\n",
    "    handoff,\n",
    "    trace,\n",
    ")"
   ]
  },
  {
   "cell_type": "code",
   "execution_count": 24,
   "id": "4cf99abe",
   "metadata": {},
   "outputs": [],
   "source": [
    "load_dotenv()\n",
    "OPENAI_API_KEY = os.getenv(\"OPENAI_API_KEY\")\n",
    "AZURE_MCP_HHAI_ENDPOINT = os.getenv(\"AZURE_MCP_HHAI_ENDPOINT\")\n",
    "AZURE_MCP_HHAI_API_KEY = os.getenv(\"AZURE_MCP_HHAI_API_KEY\")"
   ]
  },
  {
   "cell_type": "code",
   "execution_count": 25,
   "id": "52bd2c52-f0e7-4aa6-96a3-c4a8371eb094",
   "metadata": {},
   "outputs": [],
   "source": [
    "nest_asyncio.apply()"
   ]
  },
  {
   "cell_type": "code",
   "execution_count": 27,
   "id": "cd667250",
   "metadata": {},
   "outputs": [],
   "source": [
    "@dataclass\n",
    "class ContextInfo:\n",
    "    auth_header: Optional[dict] = None\n",
    "    data_type: Optional[str] = None\n",
    "    date: str = \"\"  # str(date.today())\n",
    "    restart: bool = False\n",
    "    last_agent_name: Optional[str] = None\n",
    "\n",
    "async def main():\n",
    "    server1 = MCPServerSse(\n",
    "        name=\"appointmentWorkflow\",\n",
    "        params={\n",
    "            \"url\": \"http://localhost:8000/sse\",\n",
    "             \"timeout\":30\n",
    "        },\n",
    "        client_session_timeout_seconds=30,\n",
    "    ) \n",
    "    hhai_mcp_server = MCPServerSse(\n",
    "        name=\"healthhub_general_information\",\n",
    "        params={\n",
    "            \"url\": f\"{AZURE_MCP_HHAI_ENDPOINT}/sse\",\n",
    "            \"headers\": {\"x-api-key\": AZURE_MCP_HHAI_API_KEY},\n",
    "        },\n",
    "        cache_tools_list=True,\n",
    "    )\n",
    "    try:\n",
    "        await server1.connect()\n",
    "        await hhai_mcp_server.connect()\n",
    "        wrapper = RunContextWrapper(\n",
    "            context=ContextInfo(\n",
    "                auth_header={\n",
    "                    \"Authorization\": f\"Bearer XXX\",\n",
    "                    \"Content-Type\": \"application/json\",\n",
    "                }\n",
    "            )\n",
    "        )\n",
    "\n",
    "        def dynamic_instructions(\n",
    "            context: RunContextWrapper[ContextInfo],agent: Agent[ContextInfo]\n",
    "        ) -> str:\n",
    "            return f\"\"\"You help the user complete tasks using the connected tool. \n",
    "            Connect to hhai_mcp_server to get general information and server1 for appointment/booking workflow. \n",
    "            The last_agent_name is {context.context.context.last_agent_name}.\n",
    "            The user ID is \n",
    "            Provide the tool with the last agent name if part of the parameterto get the correct response.\n",
    "            \"\"\"\n",
    "        agent = Agent[ContextInfo](\n",
    "            name=\"MCP Agent\",\n",
    "            instructions= dynamic_instructions,\n",
    "            mcp_servers=[server1,hhai_mcp_server],\n",
    "            model_settings=ModelSettings(tool_choice=\"required\")\n",
    "        )\n",
    "        \n",
    "        print(\"Chatbot started! Type 'exit' to quit.\")\n",
    "        last_agent_name = \"appointment_agent\"\n",
    "        while True:\n",
    "            \n",
    "            message = input(\"\\nYou: \")\n",
    "            if message.lower() == 'exit':\n",
    "                print(\"Goodbye!\")\n",
    "                break\n",
    "            inputs: list[TResponseInputItem] = [{\"content\": message, \"role\": \"user\"}]\n",
    "            print(\"wrapper\",wrapper)\n",
    "            result = Runner.run_streamed(agent,input=inputs, context=wrapper )\n",
    "            async for event in result.stream_events():\n",
    "                # We'll ignore the raw responses event deltas\n",
    "                if event.type == \"raw_response_event\":\n",
    "                    continue\n",
    "                # When the agent updates, print that\n",
    "                elif event.type == \"agent_updated_stream_event\":\n",
    "                    print(f\"Agent updated: {event.new_agent.name}\")\n",
    "                    continue\n",
    "                # When items are generated, print them\n",
    "                elif event.type == \"run_item_stream_event\":\n",
    "                    if event.item.type == \"tool_call_item\":\n",
    "                        print(\"-- Tool was called\")\n",
    "                    elif event.item.type == \"tool_call_output_item\":\n",
    "                        print(f\"-- Tool output: {event.item.output}\")\n",
    "                        try:\n",
    "                            output = json.loads(event.item.output)\n",
    "                            output = json.loads(output[\"text\"])\n",
    "                            last_agent_name = output[\"last_agent_name\"]\n",
    "                            if \"last_agent_name\" in output:\n",
    "                                last_agent_name = output[\"last_agent_name\"]\n",
    "                                wrapper.context.last_agent_name = last_agent_name\n",
    "                                print(f\"Last agent name updated to: {last_agent_name}\")\n",
    "                        except json.JSONDecodeError:\n",
    "                            pass\n",
    "                    elif event.item.type == \"message_output_item\":\n",
    "                        print(f\"-- Message output:\\n {ItemHelpers.text_message_output(event.item)}\")\n",
    "                    else:\n",
    "                        pass  # Ignore other event types\n",
    "            inputs = result.to_input_list()\n",
    " \n",
    "\n",
    "    finally:\n",
    "        await server1.cleanup()\n",
    "        #await hhai_mcp_server.cleanup()"
   ]
  },
  {
   "cell_type": "code",
   "execution_count": 28,
   "id": "3b9ef5a7",
   "metadata": {},
   "outputs": [
    {
     "name": "stdout",
     "output_type": "stream",
     "text": [
      "Chatbot started! Type 'exit' to quit.\n",
      "wrapper RunContextWrapper(context=ContextInfo(auth_header={'Authorization': 'Bearer XXX', 'Content-Type': 'application/json'}, data_type=None, date='', restart=False, last_agent_name=None), usage=Usage(requests=0, input_tokens=0, output_tokens=0, total_tokens=0))\n",
      "Agent updated: MCP Agent\n",
      "-- Tool was called\n",
      "-- Tool output: {\"type\":\"text\",\"text\":\"{\\n  \\\"user_query\\\": \\\"I want to book an influenza vaccine\\\",\\n  \\\"agent_final_response\\\": \\\"You already have an upcoming appointment for the Influenza vaccine on March 1, 2025, at 10:00 AM at Polyclinic A. \\\\n\\\\nWould you like to:\\\\n- Change the date, time, or location?\\\\n- Cancel the existing appointment?\\\\n- Keep the existing appointment?\\\",\\n  \\\"status\\\": \\\"success\\\",\\n  \\\"last_agent_name\\\": \\\"double_booking_check_agent\\\"\\n}\",\"annotations\":null}\n",
      "Last agent name updated to: double_booking_check_agent\n",
      "-- Message output:\n",
      " You already have an upcoming appointment for the Influenza vaccine on March 1, 2025, at 10:00 AM at Polyclinic A.\n",
      "\n",
      "Would you like to:\n",
      "- Change the date, time, or location?\n",
      "- Cancel the existing appointment?\n",
      "- Keep the existing appointment?\n",
      "wrapper RunContextWrapper(context=ContextInfo(auth_header={'Authorization': 'Bearer XXX', 'Content-Type': 'application/json'}, data_type=None, date='', restart=False, last_agent_name='double_booking_check_agent'), usage=Usage(requests=0, input_tokens=0, output_tokens=0, total_tokens=0))\n",
      "Agent updated: MCP Agent\n",
      "-- Tool was called\n",
      "-- Tool output: {\"type\":\"text\",\"text\":\"{\\n  \\\"user_query\\\": \\\"yes\\\",\\n  \\\"agent_final_response\\\": \\\"You have already received the **Influenza (INF)** vaccine. The recommended frequency for this vaccine is every 3 years. \\\\n\\\\nSince today is March 1, 2025, it is not yet time for your next dose. Would you like to proceed with your current booking for the vaccine?\\\",\\n  \\\"status\\\": \\\"success\\\",\\n  \\\"last_agent_name\\\": \\\"vaccination_history_check_agent\\\"\\n}\",\"annotations\":null}\n",
      "Last agent name updated to: vaccination_history_check_agent\n",
      "-- Message output:\n",
      " You have already received the **Influenza (INF)** vaccine. The recommended frequency for this vaccine is every 3 years. \n",
      "\n",
      "Since today is March 1, 2025, it is not yet time for your next dose. Would you like to proceed with your current booking for the vaccine?\n"
     ]
    },
    {
     "name": "stderr",
     "output_type": "stream",
     "text": [
      "Error cleaning up server: Attempted to exit a cancel scope that isn't the current tasks's current cancel scope\n"
     ]
    },
    {
     "name": "stdout",
     "output_type": "stream",
     "text": [
      "Goodbye!\n"
     ]
    }
   ],
   "source": [
    "if __name__ == \"__main__\":\n",
    "    asyncio.run(main())"
   ]
  }
 ],
 "metadata": {
  "kernelspec": {
   "display_name": "MCP",
   "language": "python",
   "name": "python3"
  },
  "language_info": {
   "codemirror_mode": {
    "name": "ipython",
    "version": 3
   },
   "file_extension": ".py",
   "mimetype": "text/x-python",
   "name": "python",
   "nbconvert_exporter": "python",
   "pygments_lexer": "ipython3",
   "version": "3.13.2"
  }
 },
 "nbformat": 4,
 "nbformat_minor": 5
}
