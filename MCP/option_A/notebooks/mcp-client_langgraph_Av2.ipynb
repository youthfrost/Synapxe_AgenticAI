{
 "cells": [
  {
   "cell_type": "markdown",
   "id": "a4ba5f58-67ee-439e-bf9c-b3d425be11fb",
   "metadata": {},
   "source": [
    "<div class=\"alert alert-block alert-info\" style=\"background-color: #05299E; color: white;\">\n",
    "    <h1 style=\"color: white;\">LangGraph Agent Client</h1>\n",
    "    <h4 style=\"color: white;\">LangGraph agents connecting to MCP server of OpenAI agents</h4>\n",
    "</div>"
   ]
  },
  {
   "cell_type": "code",
   "execution_count": null,
   "id": "e5ec7ca3-f014-4039-b5f9-757e0690992a",
   "metadata": {},
   "outputs": [],
   "source": [
    "#pip install langchain-mcp-adapters"
   ]
  },
  {
   "cell_type": "code",
   "execution_count": 17,
   "id": "20de785a-0dff-4973-aa98-008a4b9cd8af",
   "metadata": {},
   "outputs": [],
   "source": [
    "import asyncio\n",
    "import nest_asyncio\n",
    "import os\n",
    "from dotenv import load_dotenv\n",
    "import sys\n",
    "\n",
    "from mcp import ClientSession, StdioServerParameters\n",
    "from mcp.client.stdio import stdio_client\n",
    "\n",
    "from langchain_mcp_adapters.client import MultiServerMCPClient\n",
    "from langchain_mcp_adapters.tools import load_mcp_tools\n",
    "from langgraph.graph import StateGraph, START, END\n",
    "from langgraph.prebuilt import create_react_agent\n",
    "\n",
    "from langchain_openai import ChatOpenAI\n",
    "from typing import List, Dict, Any, Tuple, Optional"
   ]
  },
  {
   "cell_type": "code",
   "execution_count": 18,
   "id": "f070d15d",
   "metadata": {},
   "outputs": [],
   "source": [
    "load_dotenv()\n",
    "OPENAI_API_KEY = os.getenv(\"OPENAI_API_KEY\")"
   ]
  },
  {
   "cell_type": "code",
   "execution_count": 19,
   "id": "35fd6de1-9d59-43f4-a589-0c1024ce812c",
   "metadata": {},
   "outputs": [],
   "source": [
    "nest_asyncio.apply()"
   ]
  },
  {
   "cell_type": "code",
   "execution_count": 20,
   "id": "e44f4b17-869f-4080-90c7-8e2dfc096e9d",
   "metadata": {},
   "outputs": [],
   "source": [
    "# Define our agent state\n",
    "class AgentState(Dict[str, Any]):\n",
    "    messages: List[Dict[str, str]]\n",
    "    tool_responses: List[Dict[str, str]] = []"
   ]
  },
  {
   "cell_type": "code",
   "execution_count": 21,
   "id": "01278e86-bb07-4cab-a2f4-494b61921c0d",
   "metadata": {},
   "outputs": [],
   "source": [
    "async def run_langgraph_agent():\n",
    "    \"\"\"Run a LangGraph agent that connects to the MCP server\"\"\"\n",
    "    \n",
    "    # Initialize the LLM\n",
    "    llm = ChatOpenAI(model=\"gpt-4o-mini\")\n",
    "    \n",
    "    print(\"Connecting to MCP server...\")\n",
    "    \n",
    "    # Connect to the MCP server\n",
    "    async with MultiServerMCPClient(\n",
    "        {\n",
    "            \"MCP server\": {\n",
    "                \"url\": \"http://localhost:8000/sse\",\n",
    "                \"transport\": \"sse\",\n",
    "            }\n",
    "        }\n",
    "    ) as client:\n",
    "        # Get available tools from the MCP server\n",
    "        tools = client.get_tools()\n",
    "        print(f\"Connected successfully. Available tools: {[t.name for t in tools]}\")\n",
    "        \n",
    "        # Create a LangGraph ReAct agent with the MCP tools\n",
    "        agent = create_react_agent(llm, tools)\n",
    "        \n",
    "        # Now try with the graph\n",
    "        print(\"\\nTesting graph invocation:\")\n",
    "        try:\n",
    "            # Create a simple workflow graph\n",
    "            workflow = StateGraph(AgentState)\n",
    "            \n",
    "            # Define agent node that properly handles async\n",
    "            async def agent_node_async(state):\n",
    "                return await agent.ainvoke({\"messages\": state[\"messages\"]})\n",
    "                \n",
    "            # Wrapper for the agent node\n",
    "            def agent_node(state: AgentState) -> Dict[str, Any]:\n",
    "                loop = asyncio.get_event_loop()\n",
    "                result = loop.run_until_complete(agent_node_async(state))\n",
    "                return {\"messages\": result[\"messages\"]}\n",
    "            \n",
    "            # Add the agent node to the graph\n",
    "            workflow.add_node(\"agent\", agent_node)\n",
    "            \n",
    "            # Define the graph edges\n",
    "            workflow.add_edge(START, \"agent\")\n",
    "            workflow.add_edge(\"agent\", END)\n",
    "            \n",
    "            # Compile the graph\n",
    "            app = workflow.compile()\n",
    "            \n",
    "            # Execute the graph with a user query\n",
    "            result = app.invoke({\n",
    "                \"messages\": [\n",
    "                    {\"role\": \"user\", \"content\": \"what is eldershield used for?\"}\n",
    "                ]\n",
    "            })\n",
    "            \n",
    "            # Print the result\n",
    "            print(\"\\nGraph Invocation Result:\")\n",
    "            print(result)\n",
    "            return result\n",
    "                    \n",
    "        except Exception as e:\n",
    "            print(f\"Error with graph execution: {e}\")"
   ]
  },
  {
   "cell_type": "code",
   "execution_count": 22,
   "id": "7d0c61f2-f2b1-47b9-9366-d4caed446162",
   "metadata": {},
   "outputs": [
    {
     "name": "stdout",
     "output_type": "stream",
     "text": [
      "Starting test...\n",
      "Connecting to MCP server...\n",
      "Connected successfully. Available tools: ['healthcare_finance_domain']\n",
      "\n",
      "Testing graph invocation:\n",
      "\n",
      "Graph Invocation Result:\n",
      "{'messages': [HumanMessage(content='what is eldershield used for?', additional_kwargs={}, response_metadata={}, id='ab47cdef-31ba-4574-8a3b-d199c3d11d01'), AIMessage(content='', additional_kwargs={'tool_calls': [{'id': 'call_V1RpveuZhHrKf3WgUpXJ16LL', 'function': {'arguments': '{\"query\":\"What is Eldershield used for?\"}', 'name': 'healthcare_finance_domain'}, 'type': 'function'}], 'refusal': None}, response_metadata={'token_usage': {'completion_tokens': 26, 'prompt_tokens': 83, 'total_tokens': 109, 'completion_tokens_details': {'accepted_prediction_tokens': 0, 'audio_tokens': 0, 'reasoning_tokens': 0, 'rejected_prediction_tokens': 0}, 'prompt_tokens_details': {'audio_tokens': 0, 'cached_tokens': 0}}, 'model_name': 'gpt-4o-mini-2024-07-18', 'system_fingerprint': 'fp_dbaca60df0', 'finish_reason': 'tool_calls', 'logprobs': None}, id='run-f73cd577-3ee8-429b-9466-ab97046664a7-0', tool_calls=[{'name': 'healthcare_finance_domain', 'args': {'query': 'What is Eldershield used for?'}, 'id': 'call_V1RpveuZhHrKf3WgUpXJ16LL', 'type': 'tool_call'}], usage_metadata={'input_tokens': 83, 'output_tokens': 26, 'total_tokens': 109, 'input_token_details': {'audio': 0, 'cache_read': 0}, 'output_token_details': {'audio': 0, 'reasoning': 0}}), ToolMessage(content=\"[{'content': 'What is Eldershield used for?', 'role': 'user'}, {'id': 'msg_681e2238b0ec8191b7c3adba2291b667085008ff52995fe6', 'content': [{'annotations': [], 'text': 'ElderShield is a long-term care insurance scheme in Singapore designed to provide financial support for individuals who become severely disabled and require long-term care. It offers cash payouts to help cover the costs of care needed for daily activities, such as getting dressed, eating, or moving around.\\\\n\\\\nIf you have specific questions about eligibility, premiums, or application procedures for ElderShield, I can help with that.', 'type': 'output_text'}], 'role': 'assistant', 'status': 'completed', 'type': 'message'}]\", name='healthcare_finance_domain', id='74513669-c0d9-4a81-8415-61a2854dd5b1', tool_call_id='call_V1RpveuZhHrKf3WgUpXJ16LL'), AIMessage(content='ElderShield is a long-term care insurance scheme in Singapore designed to provide financial support for individuals who become severely disabled and require long-term care. It offers cash payouts to help cover the costs of care needed for daily activities, such as getting dressed, eating, or moving around.\\n\\nIf you have specific questions about eligibility, premiums, or application procedures for ElderShield, feel free to ask!', additional_kwargs={'refusal': None}, response_metadata={'token_usage': {'completion_tokens': 80, 'prompt_tokens': 291, 'total_tokens': 371, 'completion_tokens_details': {'accepted_prediction_tokens': 0, 'audio_tokens': 0, 'reasoning_tokens': 0, 'rejected_prediction_tokens': 0}, 'prompt_tokens_details': {'audio_tokens': 0, 'cached_tokens': 0}}, 'model_name': 'gpt-4o-mini-2024-07-18', 'system_fingerprint': 'fp_dbaca60df0', 'finish_reason': 'stop', 'logprobs': None}, id='run-58375f2b-e717-4c1c-93ac-2818c4d135d3-0', usage_metadata={'input_tokens': 291, 'output_tokens': 80, 'total_tokens': 371, 'input_token_details': {'audio': 0, 'cache_read': 0}, 'output_token_details': {'audio': 0, 'reasoning': 0}})]}\n"
     ]
    }
   ],
   "source": [
    "print(\"Starting test...\")\n",
    "x = await run_langgraph_agent()"
   ]
  },
  {
   "cell_type": "code",
   "execution_count": 23,
   "id": "ced38e00-28b0-4347-930a-b934f7a8ca39",
   "metadata": {},
   "outputs": [
    {
     "data": {
      "text/plain": [
       "'ElderShield is a long-term care insurance scheme in Singapore designed to provide financial support for individuals who become severely disabled and require long-term care. It offers cash payouts to help cover the costs of care needed for daily activities, such as getting dressed, eating, or moving around.\\n\\nIf you have specific questions about eligibility, premiums, or application procedures for ElderShield, feel free to ask!'"
      ]
     },
     "execution_count": 23,
     "metadata": {},
     "output_type": "execute_result"
    }
   ],
   "source": [
    "x['messages'][-1].content"
   ]
  },
  {
   "cell_type": "code",
   "execution_count": 24,
   "id": "6361516f",
   "metadata": {},
   "outputs": [
    {
     "data": {
      "text/plain": [
       "[HumanMessage(content='what is eldershield used for?', additional_kwargs={}, response_metadata={}, id='ab47cdef-31ba-4574-8a3b-d199c3d11d01'),\n",
       " AIMessage(content='', additional_kwargs={'tool_calls': [{'id': 'call_V1RpveuZhHrKf3WgUpXJ16LL', 'function': {'arguments': '{\"query\":\"What is Eldershield used for?\"}', 'name': 'healthcare_finance_domain'}, 'type': 'function'}], 'refusal': None}, response_metadata={'token_usage': {'completion_tokens': 26, 'prompt_tokens': 83, 'total_tokens': 109, 'completion_tokens_details': {'accepted_prediction_tokens': 0, 'audio_tokens': 0, 'reasoning_tokens': 0, 'rejected_prediction_tokens': 0}, 'prompt_tokens_details': {'audio_tokens': 0, 'cached_tokens': 0}}, 'model_name': 'gpt-4o-mini-2024-07-18', 'system_fingerprint': 'fp_dbaca60df0', 'finish_reason': 'tool_calls', 'logprobs': None}, id='run-f73cd577-3ee8-429b-9466-ab97046664a7-0', tool_calls=[{'name': 'healthcare_finance_domain', 'args': {'query': 'What is Eldershield used for?'}, 'id': 'call_V1RpveuZhHrKf3WgUpXJ16LL', 'type': 'tool_call'}], usage_metadata={'input_tokens': 83, 'output_tokens': 26, 'total_tokens': 109, 'input_token_details': {'audio': 0, 'cache_read': 0}, 'output_token_details': {'audio': 0, 'reasoning': 0}}),\n",
       " ToolMessage(content=\"[{'content': 'What is Eldershield used for?', 'role': 'user'}, {'id': 'msg_681e2238b0ec8191b7c3adba2291b667085008ff52995fe6', 'content': [{'annotations': [], 'text': 'ElderShield is a long-term care insurance scheme in Singapore designed to provide financial support for individuals who become severely disabled and require long-term care. It offers cash payouts to help cover the costs of care needed for daily activities, such as getting dressed, eating, or moving around.\\\\n\\\\nIf you have specific questions about eligibility, premiums, or application procedures for ElderShield, I can help with that.', 'type': 'output_text'}], 'role': 'assistant', 'status': 'completed', 'type': 'message'}]\", name='healthcare_finance_domain', id='74513669-c0d9-4a81-8415-61a2854dd5b1', tool_call_id='call_V1RpveuZhHrKf3WgUpXJ16LL'),\n",
       " AIMessage(content='ElderShield is a long-term care insurance scheme in Singapore designed to provide financial support for individuals who become severely disabled and require long-term care. It offers cash payouts to help cover the costs of care needed for daily activities, such as getting dressed, eating, or moving around.\\n\\nIf you have specific questions about eligibility, premiums, or application procedures for ElderShield, feel free to ask!', additional_kwargs={'refusal': None}, response_metadata={'token_usage': {'completion_tokens': 80, 'prompt_tokens': 291, 'total_tokens': 371, 'completion_tokens_details': {'accepted_prediction_tokens': 0, 'audio_tokens': 0, 'reasoning_tokens': 0, 'rejected_prediction_tokens': 0}, 'prompt_tokens_details': {'audio_tokens': 0, 'cached_tokens': 0}}, 'model_name': 'gpt-4o-mini-2024-07-18', 'system_fingerprint': 'fp_dbaca60df0', 'finish_reason': 'stop', 'logprobs': None}, id='run-58375f2b-e717-4c1c-93ac-2818c4d135d3-0', usage_metadata={'input_tokens': 291, 'output_tokens': 80, 'total_tokens': 371, 'input_token_details': {'audio': 0, 'cache_read': 0}, 'output_token_details': {'audio': 0, 'reasoning': 0}})]"
      ]
     },
     "execution_count": 24,
     "metadata": {},
     "output_type": "execute_result"
    }
   ],
   "source": [
    "x['messages']"
   ]
  },
  {
   "cell_type": "code",
   "execution_count": null,
   "id": "437e5b7f",
   "metadata": {},
   "outputs": [
    {
     "name": "stdout",
     "output_type": "stream",
     "text": [
      "content='what is eldershield used for?' additional_kwargs={} response_metadata={} id='ab47cdef-31ba-4574-8a3b-d199c3d11d01'\n",
      "content='' additional_kwargs={'tool_calls': [{'id': 'call_V1RpveuZhHrKf3WgUpXJ16LL', 'function': {'arguments': '{\"query\":\"What is Eldershield used for?\"}', 'name': 'healthcare_finance_domain'}, 'type': 'function'}], 'refusal': None} response_metadata={'token_usage': {'completion_tokens': 26, 'prompt_tokens': 83, 'total_tokens': 109, 'completion_tokens_details': {'accepted_prediction_tokens': 0, 'audio_tokens': 0, 'reasoning_tokens': 0, 'rejected_prediction_tokens': 0}, 'prompt_tokens_details': {'audio_tokens': 0, 'cached_tokens': 0}}, 'model_name': 'gpt-4o-mini-2024-07-18', 'system_fingerprint': 'fp_dbaca60df0', 'finish_reason': 'tool_calls', 'logprobs': None} id='run-f73cd577-3ee8-429b-9466-ab97046664a7-0' tool_calls=[{'name': 'healthcare_finance_domain', 'args': {'query': 'What is Eldershield used for?'}, 'id': 'call_V1RpveuZhHrKf3WgUpXJ16LL', 'type': 'tool_call'}] usage_metadata={'input_tokens': 83, 'output_tokens': 26, 'total_tokens': 109, 'input_token_details': {'audio': 0, 'cache_read': 0}, 'output_token_details': {'audio': 0, 'reasoning': 0}}\n",
      "content=\"[{'content': 'What is Eldershield used for?', 'role': 'user'}, {'id': 'msg_681e2238b0ec8191b7c3adba2291b667085008ff52995fe6', 'content': [{'annotations': [], 'text': 'ElderShield is a long-term care insurance scheme in Singapore designed to provide financial support for individuals who become severely disabled and require long-term care. It offers cash payouts to help cover the costs of care needed for daily activities, such as getting dressed, eating, or moving around.\\\\n\\\\nIf you have specific questions about eligibility, premiums, or application procedures for ElderShield, I can help with that.', 'type': 'output_text'}], 'role': 'assistant', 'status': 'completed', 'type': 'message'}]\" name='healthcare_finance_domain' id='74513669-c0d9-4a81-8415-61a2854dd5b1' tool_call_id='call_V1RpveuZhHrKf3WgUpXJ16LL'\n",
      "content='ElderShield is a long-term care insurance scheme in Singapore designed to provide financial support for individuals who become severely disabled and require long-term care. It offers cash payouts to help cover the costs of care needed for daily activities, such as getting dressed, eating, or moving around.\\n\\nIf you have specific questions about eligibility, premiums, or application procedures for ElderShield, feel free to ask!' additional_kwargs={'refusal': None} response_metadata={'token_usage': {'completion_tokens': 80, 'prompt_tokens': 291, 'total_tokens': 371, 'completion_tokens_details': {'accepted_prediction_tokens': 0, 'audio_tokens': 0, 'reasoning_tokens': 0, 'rejected_prediction_tokens': 0}, 'prompt_tokens_details': {'audio_tokens': 0, 'cached_tokens': 0}}, 'model_name': 'gpt-4o-mini-2024-07-18', 'system_fingerprint': 'fp_dbaca60df0', 'finish_reason': 'stop', 'logprobs': None} id='run-58375f2b-e717-4c1c-93ac-2818c4d135d3-0' usage_metadata={'input_tokens': 291, 'output_tokens': 80, 'total_tokens': 371, 'input_token_details': {'audio': 0, 'cache_read': 0}, 'output_token_details': {'audio': 0, 'reasoning': 0}}\n"
     ]
    }
   ],
   "source": [
    "#first is user query\n",
    "#second, no reply from AI, invoked the healthcare_finance_domain tool in MCP server\n",
    "#third, the tool (healthcare_finance_domain = agent network) returned the result \n",
    "#fourth, using the result (response from agent network) from the tool, the LG agent gave its reply (which is very similar and slightly different)"
   ]
  },
  {
   "cell_type": "code",
   "execution_count": null,
   "id": "2e97cd90",
   "metadata": {},
   "outputs": [],
   "source": []
  }
 ],
 "metadata": {
  "kernelspec": {
   "display_name": "agentic",
   "language": "python",
   "name": "python3"
  },
  "language_info": {
   "codemirror_mode": {
    "name": "ipython",
    "version": 3
   },
   "file_extension": ".py",
   "mimetype": "text/x-python",
   "name": "python",
   "nbconvert_exporter": "python",
   "pygments_lexer": "ipython3",
   "version": "3.11.11"
  }
 },
 "nbformat": 4,
 "nbformat_minor": 5
}
